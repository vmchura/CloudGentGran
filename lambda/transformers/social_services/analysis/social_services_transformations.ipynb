{
 "cells": [
  {
   "cell_type": "code",
   "id": "initial_id",
   "metadata": {
    "collapsed": true
   },
   "source": [
    "SOCIAL_SERVICES_PATH = \"../../../../downloads/20250809/landing\"\n",
    "SOCIAL_SERVICE_PARQUET_PATH = \"../../../../downloads/social_services_20250809_152821.parquet\""
   ],
   "outputs": [],
   "execution_count": null
  },
  {
   "metadata": {},
   "cell_type": "code",
   "source": [
    "from pathlib import Path\n",
    "import polars as pl\n",
    "import glob\n",
    "import os\n",
    "import re"
   ],
   "id": "9b27f09118de4b76",
   "outputs": [],
   "execution_count": null
  },
  {
   "metadata": {},
   "cell_type": "code",
   "source": [
    "patterns = {\n",
    "    'registre': r'S\\d{5}',\n",
    "    'inscripcio': r'[1-9]\\d{3}-(0[1-9]|1[0-2])-(0[1-9]|[12]\\d|3[01])',\n",
    "    'capacitat': r'\\d{1,3}',\n",
    "    'cp': r'\\d{5}',\n",
    "    'nif': r'([A-Z0-9]\\d{7}[A-Z0-9])|(null)',\n",
    "}"
   ],
   "id": "2a6494227f5276bb",
   "outputs": [],
   "execution_count": null
  },
  {
   "metadata": {},
   "cell_type": "code",
   "source": "registre_pattern = pl.col(\"registre\").str.contains(r\"S\\d{5}\")",
   "id": "a919c849f6eefc2",
   "outputs": [],
   "execution_count": null
  },
  {
   "metadata": {},
   "cell_type": "code",
   "source": [
    "\n",
    "json_files = glob.glob(os.path.join(SOCIAL_SERVICES_PATH, \"*.json\"))\n",
    "dfs = [pl.read_json(file) for file in json_files]\n",
    "df = pl.concat(dfs,how='diagonal')\n",
    "df\n"
   ],
   "id": "60061f4341d32563",
   "outputs": [],
   "execution_count": null
  },
  {
   "metadata": {},
   "cell_type": "code",
   "source": "df.select(pl.col('qualificacio')).unique().write_csv('qualificacio.csv')",
   "id": "d89baeb502cf429e",
   "outputs": [],
   "execution_count": null
  },
  {
   "metadata": {},
   "cell_type": "code",
   "source": [
    "for column_name, pattern in patterns.items():\n",
    "    print(f\"`{column_name}` follows the pattern `{pattern}`: {df.select(pl.col(column_name).str.contains(pattern).all()).item()}\")"
   ],
   "id": "be20b3eba32da228",
   "outputs": [],
   "execution_count": null
  },
  {
   "metadata": {},
   "cell_type": "code",
   "source": "df.filter(~pl.col('nif').str.contains(patterns['nif']))",
   "id": "d28337fb6c8eb404",
   "outputs": [],
   "execution_count": null
  },
  {
   "metadata": {},
   "cell_type": "code",
   "source": "df.select(registre_pattern.all()).item()",
   "id": "617e855c7b421418",
   "outputs": [],
   "execution_count": null
  },
  {
   "metadata": {},
   "cell_type": "code",
   "source": "df.filter(registre_pattern)",
   "id": "48717a519bda5544",
   "outputs": [],
   "execution_count": null
  },
  {
   "metadata": {},
   "cell_type": "code",
   "source": "registre_format = re.",
   "id": "f627c0e10ab68b44",
   "outputs": [],
   "execution_count": null
  },
  {
   "metadata": {},
   "cell_type": "code",
   "source": [
    "my_parquet = pl.read_parquet(Path(SOCIAL_SERVICE_PARQUET_PATH))\n",
    "my_parquet"
   ],
   "id": "34cceec903c6bb86",
   "outputs": [],
   "execution_count": null
  },
  {
   "metadata": {},
   "cell_type": "code",
   "source": "",
   "id": "88207e244cede7d3",
   "outputs": [],
   "execution_count": null
  },
  {
   "metadata": {},
   "cell_type": "code",
   "source": [
    "for column_name, pattern in patterns.items():\n",
    "    print(f\"`{column_name}` follows the pattern `{pattern}`: {my_parquet.select(pl.col(column_name).str.contains(pattern).all()).item()}\")"
   ],
   "id": "35951de990a679c4",
   "outputs": [],
   "execution_count": null
  },
  {
   "metadata": {},
   "cell_type": "code",
   "source": "c = list(set(df.columns) & set(my_parquet.columns))",
   "id": "8e36a53c331cab75",
   "outputs": [],
   "execution_count": null
  },
  {
   "metadata": {},
   "cell_type": "code",
   "source": "df.select(c)",
   "id": "cf6091d9d16e6faf",
   "outputs": [],
   "execution_count": null
  },
  {
   "metadata": {},
   "cell_type": "code",
   "source": "my_parquet.select(pl.col('comarca')).unique()",
   "id": "626c850b93266845",
   "outputs": [],
   "execution_count": null
  },
  {
   "metadata": {},
   "cell_type": "code",
   "source": "df.select(pl.col('tipologia')).unique()",
   "id": "405ebdf0b46175cc",
   "outputs": [],
   "execution_count": null
  },
  {
   "metadata": {},
   "cell_type": "code",
   "source": "",
   "id": "84388ccf347c8724",
   "outputs": [],
   "execution_count": null
  }
 ],
 "metadata": {
  "kernelspec": {
   "display_name": "Python 3",
   "language": "python",
   "name": "python3"
  },
  "language_info": {
   "codemirror_mode": {
    "name": "ipython",
    "version": 2
   },
   "file_extension": ".py",
   "mimetype": "text/x-python",
   "name": "python",
   "nbconvert_exporter": "python",
   "pygments_lexer": "ipython2",
   "version": "2.7.6"
  }
 },
 "nbformat": 4,
 "nbformat_minor": 5
}
